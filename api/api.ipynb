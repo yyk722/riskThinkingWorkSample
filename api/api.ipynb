{
 "cells": [
  {
   "cell_type": "code",
   "execution_count": 1,
   "id": "4ae6528b",
   "metadata": {},
   "outputs": [
    {
     "name": "stdout",
     "output_type": "stream",
     "text": [
      "Collecting uvicorn[standard]\n",
      "  Downloading uvicorn-0.22.0-py3-none-any.whl (58 kB)\n",
      "     -------------------------------------- 58.3/58.3 kB 139.8 kB/s eta 0:00:00\n",
      "Collecting h11>=0.8\n",
      "  Downloading h11-0.14.0-py3-none-any.whl (58 kB)\n",
      "     -------------------------------------- 58.3/58.3 kB 615.6 kB/s eta 0:00:00\n",
      "Requirement already satisfied: click>=7.0 in c:\\users\\y46ju\\anaconda3\\lib\\site-packages (from uvicorn[standard]) (8.0.4)\n",
      "Collecting python-dotenv>=0.13\n",
      "  Downloading python_dotenv-1.0.0-py3-none-any.whl (19 kB)\n",
      "Collecting httptools>=0.5.0\n",
      "  Downloading httptools-0.5.0-cp310-cp310-win_amd64.whl (142 kB)\n",
      "     ------------------------------------ 143.0/143.0 kB 387.0 kB/s eta 0:00:00\n",
      "Collecting watchfiles>=0.13\n",
      "  Downloading watchfiles-0.19.0-cp37-abi3-win_amd64.whl (270 kB)\n",
      "     -------------------------------------- 270.9/270.9 kB 1.2 MB/s eta 0:00:00\n",
      "Collecting websockets>=10.4\n",
      "  Downloading websockets-11.0.2-cp310-cp310-win_amd64.whl (124 kB)\n",
      "     -------------------------------------- 124.6/124.6 kB 2.4 MB/s eta 0:00:00\n",
      "Requirement already satisfied: pyyaml>=5.1 in c:\\users\\y46ju\\anaconda3\\lib\\site-packages (from uvicorn[standard]) (6.0)\n",
      "Requirement already satisfied: colorama>=0.4 in c:\\users\\y46ju\\anaconda3\\lib\\site-packages (from uvicorn[standard]) (0.4.6)\n",
      "Requirement already satisfied: anyio>=3.0.0 in c:\\users\\y46ju\\anaconda3\\lib\\site-packages (from watchfiles>=0.13->uvicorn[standard]) (3.5.0)\n",
      "Requirement already satisfied: sniffio>=1.1 in c:\\users\\y46ju\\anaconda3\\lib\\site-packages (from anyio>=3.0.0->watchfiles>=0.13->uvicorn[standard]) (1.2.0)\n",
      "Requirement already satisfied: idna>=2.8 in c:\\users\\y46ju\\anaconda3\\lib\\site-packages (from anyio>=3.0.0->watchfiles>=0.13->uvicorn[standard]) (3.4)\n",
      "Installing collected packages: websockets, python-dotenv, httptools, h11, watchfiles, uvicorn\n",
      "Successfully installed h11-0.14.0 httptools-0.5.0 python-dotenv-1.0.0 uvicorn-0.22.0 watchfiles-0.19.0 websockets-11.0.2\n",
      "Collecting fastapi\n",
      "  Downloading fastapi-0.95.1-py3-none-any.whl (56 kB)\n",
      "     -------------------------------------- 57.0/57.0 kB 129.8 kB/s eta 0:00:00\n",
      "Collecting pydantic!=1.7,!=1.7.1,!=1.7.2,!=1.7.3,!=1.8,!=1.8.1,<2.0.0,>=1.6.2\n",
      "  Downloading pydantic-1.10.7-cp310-cp310-win_amd64.whl (2.1 MB)\n",
      "     ---------------------------------------- 2.1/2.1 MB 1.9 MB/s eta 0:00:00\n",
      "Collecting starlette<0.27.0,>=0.26.1\n",
      "  Downloading starlette-0.26.1-py3-none-any.whl (66 kB)\n",
      "     ---------------------------------------- 66.9/66.9 kB 1.8 MB/s eta 0:00:00\n",
      "Requirement already satisfied: typing-extensions>=4.2.0 in c:\\users\\y46ju\\anaconda3\\lib\\site-packages (from pydantic!=1.7,!=1.7.1,!=1.7.2,!=1.7.3,!=1.8,!=1.8.1,<2.0.0,>=1.6.2->fastapi) (4.4.0)\n",
      "Requirement already satisfied: anyio<5,>=3.4.0 in c:\\users\\y46ju\\anaconda3\\lib\\site-packages (from starlette<0.27.0,>=0.26.1->fastapi) (3.5.0)\n",
      "Requirement already satisfied: idna>=2.8 in c:\\users\\y46ju\\anaconda3\\lib\\site-packages (from anyio<5,>=3.4.0->starlette<0.27.0,>=0.26.1->fastapi) (3.4)\n",
      "Requirement already satisfied: sniffio>=1.1 in c:\\users\\y46ju\\anaconda3\\lib\\site-packages (from anyio<5,>=3.4.0->starlette<0.27.0,>=0.26.1->fastapi) (1.2.0)\n",
      "Installing collected packages: pydantic, starlette, fastapi\n",
      "Successfully installed fastapi-0.95.1 pydantic-1.10.7 starlette-0.26.1\n"
     ]
    }
   ],
   "source": [
    "!pip install \"uvicorn[standard]\"\n",
    "!pip install fastapi"
   ]
  },
  {
   "cell_type": "code",
   "execution_count": 7,
   "id": "b4346f95",
   "metadata": {},
   "outputs": [],
   "source": [
    "import h2o\n",
    "from h2o.automl import H2OAutoML\n",
    "from fastapi import FastAPI\n",
    "from pydantic import BaseModel\n",
    "\n",
    "h2o.init()\n",
    "saved_model = h2o.load_model(\"StackedEnsemble_BestOfFamily_1_AutoML_2_20230505_53230\")\n",
    "app = FastAPI()\n",
    "\n",
    "class InputData(BaseModel):\n",
    "    vol_moving_avg: float\n",
    "    adj_close_rolling_med: float\n",
    "    symbol: str\n",
    "    etf: bool\n",
    "    rsi: float\n",
    "    tema: float\n",
    "\n",
    "@app.post(\"/predict\")\n",
    "def predict_trading_volume(input_data: InputData):\n",
    "    # Extract input values from the request body\n",
    "    vol_moving_avg = input_data.vol_moving_avg\n",
    "    adj_close_rolling_med = input_data.adj_close_rolling_med\n",
    "    symbol = input_data.symbol\n",
    "    etf = input_data.etf\n",
    "    rsi = input_data.rsi\n",
    "    tema = input_data.tema\n",
    "    \n",
    "    frame = h2o.H2OFrame({\"Symbol\":symbol, \"etf\":etf, \"rsi\":rsi, \"tema\":tema, \"vol_moving_avg\":vol_moving_avg, \"adj_close_rolling_med\":adj_close_rolling_med})\n",
    "    result = saved_model.predict(frame)\n",
    "    print(result.as_data_frame()[1][0])\n",
    "    # Return the predicted trading volume as a response\n",
    "    return {\"trading_volume\": result.as_data_frame()[1][0]}"
   ]
  },
  {
   "cell_type": "code",
   "execution_count": 15,
   "id": "7a27eb64",
   "metadata": {},
   "outputs": [
    {
     "name": "stdout",
     "output_type": "stream",
     "text": [
      "{'trading_volume': '1378170.4745345903'}\n"
     ]
    }
   ],
   "source": [
    "import requests\n",
    "url = \"http://127.0.0.1:8000/predict\"\n",
    "\n",
    "payload = {\n",
    "    \"vol_moving_avg\": 2212460,\n",
    "    \"adj_close_rolling_med\": 36.5099,\n",
    "    \"symbol\": \"A\",\n",
    "    \"etf\": False,\n",
    "    \"rsi\": 58.1535,\n",
    "    \"tema\": 39.4062\n",
    "}\n",
    "\n",
    "headers = {\n",
    "    \"Content-Type\": \"application/json\",\n",
    "    \"accept\": \"application/json\"\n",
    "}\n",
    "\n",
    "response = requests.post(url, json=payload, headers=headers)\n",
    "\n",
    "print(response.json())"
   ]
  }
 ],
 "metadata": {
  "kernelspec": {
   "display_name": "Python 3 (ipykernel)",
   "language": "python",
   "name": "python3"
  },
  "language_info": {
   "codemirror_mode": {
    "name": "ipython",
    "version": 3
   },
   "file_extension": ".py",
   "mimetype": "text/x-python",
   "name": "python",
   "nbconvert_exporter": "python",
   "pygments_lexer": "ipython3",
   "version": "3.10.9"
  }
 },
 "nbformat": 4,
 "nbformat_minor": 5
}
